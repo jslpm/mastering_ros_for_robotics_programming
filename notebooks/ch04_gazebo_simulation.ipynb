{
 "cells": [
  {
   "cell_type": "markdown",
   "id": "11457c8d-a92c-4961-b6ed-b1d488544bfe",
   "metadata": {},
   "source": [
    "# Chapter 4: Simulating robot using ROS and GAZEBO"
   ]
  },
  {
   "cell_type": "markdown",
   "id": "33f08a9b-dfa8-4ef3-bf63-aa14011da1bc",
   "metadata": {},
   "source": [
    "To convert a graphic diagram from an urdf description:\n",
    "* `urdf_to_graphiz FILE.urdf`\n",
    "\n",
    "Maybe you first need to convert xacro file to urdf."
   ]
  },
  {
   "cell_type": "markdown",
   "id": "befe8065-952b-4a8f-a383-66b2294bc5e6",
   "metadata": {},
   "source": [
    "There are different information for color element in Gazebo. The most simple is use:\n",
    "\n",
    "```\n",
    "<gazebo reference=\"bottom_link\">\n",
    "    <material>Gazebo/White</material>\n",
    "</gazebo>\n",
    "```\n",
    "\n",
    "The example shows that bottom_link is white color. "
   ]
  },
  {
   "cell_type": "markdown",
   "id": "7a18582c-e9f3-427b-9e6e-6c02d62f170c",
   "metadata": {},
   "source": [
    "A list of gazebo colors can be found [here](http://wiki.ros.org/simulator_gazebo/Tutorials/ListOfMaterials)."
   ]
  }
 ],
 "metadata": {
  "kernelspec": {
   "display_name": "Python 3 (ipykernel)",
   "language": "python",
   "name": "python3"
  },
  "language_info": {
   "codemirror_mode": {
    "name": "ipython",
    "version": 3
   },
   "file_extension": ".py",
   "mimetype": "text/x-python",
   "name": "python",
   "nbconvert_exporter": "python",
   "pygments_lexer": "ipython3",
   "version": "3.8.10"
  }
 },
 "nbformat": 4,
 "nbformat_minor": 5
}
