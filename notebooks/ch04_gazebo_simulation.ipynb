{
 "cells": [
  {
   "cell_type": "markdown",
   "id": "11457c8d-a92c-4961-b6ed-b1d488544bfe",
   "metadata": {},
   "source": [
    "# Chapter 4: Simulating robot using ROS and GAZEBO"
   ]
  },
  {
   "cell_type": "markdown",
   "id": "33f08a9b-dfa8-4ef3-bf63-aa14011da1bc",
   "metadata": {},
   "source": [
    "To convert a graphic diagram from an urdf description:\n",
    "* `urdf_to_graphiz FILE.urdf`\n",
    "\n",
    "Maybe you first need to convert xacro file to urdf."
   ]
  },
  {
   "cell_type": "markdown",
   "id": "befe8065-952b-4a8f-a383-66b2294bc5e6",
   "metadata": {},
   "source": [
    "There are different information for color element in Gazebo. The most simple is use:\n",
    "\n",
    "```\n",
    "<gazebo reference=\"bottom_link\">\n",
    "    <material>Gazebo/White</material>\n",
    "</gazebo>\n",
    "```\n",
    "\n",
    "The example shows that bottom_link is white color. "
   ]
  },
  {
   "cell_type": "markdown",
   "id": "7a18582c-e9f3-427b-9e6e-6c02d62f170c",
   "metadata": {},
   "source": [
    "A list of gazebo colors can be found [here](http://wiki.ros.org/simulator_gazebo/Tutorials/ListOfMaterials)."
   ]
  },
  {
   "cell_type": "markdown",
   "id": "80bd7d2a-05a3-4024-b46e-87d22ff58381",
   "metadata": {},
   "source": [
    "## Error launch simulation with rgbd camera"
   ]
  },
  {
   "cell_type": "markdown",
   "id": "ce61c8d9-ca94-4997-bf49-895db917d50a",
   "metadata": {},
   "source": [
    "When add the rgbd camera model to the simulation, this error appears:"
   ]
  },
  {
   "cell_type": "markdown",
   "id": "800c4f73-b5a5-416d-8019-fd0c56771a6d",
   "metadata": {},
   "source": [
    "<img src=\"figures/ch04/rbgd_camera_error.png\" alt=\"figures/ch04/rbgd_camera_error.png\"/>"
   ]
  },
  {
   "cell_type": "markdown",
   "id": "60787a4d-fd7b-4475-bf47-c7b0d6ae2b21",
   "metadata": {},
   "source": [
    "This error isn't a problem acording for the simulation according to [here](https://answers.ros.org/question/11313/multiple-errors-launching-opennilaunch-tried-to-advertise-a-service-that-is-already-advertised-in-this-node/). \n",
    "\n",
    "The problem origin is explaned [here](https://answers.ros.org/question/12244/complaint-from-openni_launch-on-already-advertised-services/) in the second answer."
   ]
  },
  {
   "cell_type": "markdown",
   "id": "346637d5-1d58-4470-9978-201296963603",
   "metadata": {},
   "source": [
    "## Set initial pose (position and orientation) when use spawn_model"
   ]
  },
  {
   "cell_type": "markdown",
   "id": "4d0fb517-08b8-4a3b-99e6-1ab83c2a83c8",
   "metadata": {},
   "source": [
    "[Here](https://answers.ros.org/question/381528/how-to-set-the-default-yaw-angle-for-the-robot-in-gazebo-launchfile/) is descibed how to set position (x, y , z) and orientation (roll, pitch, yaw)."
   ]
  },
  {
   "cell_type": "markdown",
   "id": "2ec3d750-7479-4c17-ab40-eeef1f013987",
   "metadata": {},
   "source": [
    "## Diference between param and rosparam"
   ]
  },
  {
   "cell_type": "markdown",
   "id": "8e073f78-b545-4092-b48d-690d117cca80",
   "metadata": {},
   "source": [
    "[ros answers source](https://answers.ros.org/question/368319/what-is-the-difference-among-arg-param-and-rosparam-in-ros-launch-files/)\n",
    "\n",
    "* **arg** is just a variable in a xml/launch file that has no specific relation to ROS\n",
    "\n",
    "* **param** in a launch file will load a single parameter to the parameter server\n",
    "\n",
    "* **rosparam** in a launch file can load entire yaml files of parameters to the parameter server"
   ]
  },
  {
   "cell_type": "markdown",
   "id": "ff6a8044-7ba7-4c20-906e-47c383613783",
   "metadata": {},
   "source": [
    "## Remap in robot_state_publisher"
   ]
  },
  {
   "cell_type": "markdown",
   "id": "228083f3-31e7-440e-9301-c3ba75b2db75",
   "metadata": {},
   "source": [
    "When `robot_state_publisher` is initialize:"
   ]
  },
  {
   "cell_type": "markdown",
   "id": "d593af68-85d8-4bdf-bf67-08cf7a38c4a7",
   "metadata": {},
   "source": [
    "<img src=\"figures/ch04/robot_state_publisher.png\" alt=\"robot_state_publisher\"/>"
   ]
  },
  {
   "cell_type": "markdown",
   "id": "82639805-1921-4424-8ba5-e5146abcb245",
   "metadata": {},
   "source": [
    "Gazebo is not sending the joint states to `/robot_state_publisher` through the topic `/joint_states`."
   ]
  },
  {
   "cell_type": "markdown",
   "id": "c68c9343-c15f-42bd-b026-ae82a0cc9487",
   "metadata": {},
   "source": [
    "<img src=\"figures/ch04/robot_state_publisher_without_remap.png\" alt=\"robot_state_publisher_without_remap\"/>"
   ]
  },
  {
   "cell_type": "markdown",
   "id": "62b47eb8-1862-47ca-8663-cf3a82469edc",
   "metadata": {},
   "source": [
    "In this case, we must use remap to change the topic name with the corresponding namespace:"
   ]
  },
  {
   "cell_type": "markdown",
   "id": "bc76be44-d5b1-455a-8e4d-dbff18aaecf6",
   "metadata": {},
   "source": [
    "<img src=\"figures/ch04/robot_state_publisher_with_remap.png\" alt=\"robot_state_publisher_with_remap\"/>"
   ]
  },
  {
   "cell_type": "markdown",
   "id": "a6e4621e-9c71-4d9f-bfef-9b6f8fcf4011",
   "metadata": {},
   "source": [
    "After topic remapping the nodes are as following:"
   ]
  },
  {
   "cell_type": "markdown",
   "id": "50f168bb-9c98-460d-9717-8fafa36028f9",
   "metadata": {},
   "source": [
    "<img src=\"figures/ch04/seven_dof_arm_joint_states.png\" alt=\"seven_dof_arm_joint_states\"/>"
   ]
  },
  {
   "cell_type": "markdown",
   "id": "ead67e70-5957-4f9e-96fe-c866d0f3cb80",
   "metadata": {},
   "source": [
    "## Error when loading controller in simulation"
   ]
  },
  {
   "cell_type": "markdown",
   "id": "8fbf53fd-aa8c-494a-a464-6dcf7ce3c069",
   "metadata": {},
   "source": [
    "The following message is display when launch the simulation and controllers."
   ]
  },
  {
   "cell_type": "markdown",
   "id": "8b54b0be-cdd0-42fb-a55a-a07c1d5215ca",
   "metadata": {},
   "source": [
    "<img src=\"figures/ch04/error_loading_controller_joint.png\" alt=\"error_loading_controller_joint.png\"/>"
   ]
  },
  {
   "cell_type": "markdown",
   "id": "4604b243-b7f8-4bc0-a15e-ca41f0ef1091",
   "metadata": {},
   "source": [
    "* It happens in transmission when using probably due to xacro:macro definition errors\n",
    "* Error in contorl.yaml definition file"
   ]
  },
  {
   "cell_type": "markdown",
   "id": "15622df9-d270-4620-99cc-3933aba40642",
   "metadata": {},
   "source": [
    "## No p gain specified error"
   ]
  },
  {
   "cell_type": "markdown",
   "id": "3642d3ac-a8a6-44e0-ad07-4c1400472dc0",
   "metadata": {},
   "source": [
    "<img src=\"figures/ch04/no_pid_gains_error.png\" alt=\"no_pid_gains_error.png\"/>"
   ]
  },
  {
   "cell_type": "markdown",
   "id": "d09bd920-5581-4c49-bbc9-1766fca85006",
   "metadata": {},
   "source": [
    "The pid gains are definied in a yaml file:"
   ]
  },
  {
   "cell_type": "markdown",
   "id": "e1ffc3fb-2969-4084-b765-28f5b5626f69",
   "metadata": {},
   "source": [
    "<img src=\"figures/ch04/pid_definition.png\" alt=\"pid_definition\"/>"
   ]
  },
  {
   "cell_type": "markdown",
   "id": "7cbd059b-f133-4d4a-bf8d-efc0f5f72051",
   "metadata": {},
   "source": [
    "The problem is because of we are using a hardware of type `PositionJointInterface`. When we are using this type of controller, the pid definition must be as following, that resolves the error.\n",
    "Sources:\n",
    "* [Here](https://answers.gazebosim.org//question/5468/gazebo_ros_pkgs-no-p-gain-specified-for-pid-in-positionjointinterface/)\n",
    "* [Second answer](https://answers.ros.org/question/293830/what-is-the-fix-for-no-p-gain-specified-for-pid-namespace-gazebo_ros_controlpid_gainsback_right_wheel_joint-ros-melodic/)"
   ]
  },
  {
   "cell_type": "markdown",
   "id": "68d8c481-ca51-40b9-8748-73921ca56159",
   "metadata": {},
   "source": [
    "<img src=\"figures/ch04/pid_defintion_position_joint_interface.png\" alt=\"pid_defintion_position_joint_interface.png\"/>"
   ]
  },
  {
   "cell_type": "markdown",
   "id": "adc2ef0b-b108-4b5f-bd94-76e7d0636b21",
   "metadata": {},
   "source": [
    "## Can't load find effort-controllers"
   ]
  },
  {
   "cell_type": "markdown",
   "id": "2b8a3df1-3426-43a8-a544-3e45afd6055f",
   "metadata": {},
   "source": [
    "When try to run a simulation using effort_controllers:"
   ]
  },
  {
   "cell_type": "markdown",
   "id": "86e60dac-e56d-4e4e-b666-78983b65ab1a",
   "metadata": {},
   "source": [
    "<img src=\"figures/ch04/error_effort_controllers.png\" alt=\"figures/ch04/error_effort_controllers.png\"/>"
   ]
  },
  {
   "cell_type": "markdown",
   "id": "5dae71cb-b877-4570-8dac-8fca348b161c",
   "metadata": {},
   "source": [
    "Check that effort_controllers are installed ([link](https://answers.ros.org/question/144556/controller-type-effort_controllersjointpositioncontroller-does-not-exist/)) and install them with:\n",
    "\n",
    "* ```sudo apt install ros-noetic-effort-controllers```"
   ]
  }
 ],
 "metadata": {
  "kernelspec": {
   "display_name": "Python 3 (ipykernel)",
   "language": "python",
   "name": "python3"
  },
  "language_info": {
   "codemirror_mode": {
    "name": "ipython",
    "version": 3
   },
   "file_extension": ".py",
   "mimetype": "text/x-python",
   "name": "python",
   "nbconvert_exporter": "python",
   "pygments_lexer": "ipython3",
   "version": "3.8.10"
  }
 },
 "nbformat": 4,
 "nbformat_minor": 5
}
