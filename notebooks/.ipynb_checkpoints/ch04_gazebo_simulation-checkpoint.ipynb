{
 "cells": [
  {
   "cell_type": "markdown",
   "id": "11457c8d-a92c-4961-b6ed-b1d488544bfe",
   "metadata": {},
   "source": [
    "# Chapter 4: Simulating robot using ROS and GAZEBO"
   ]
  },
  {
   "cell_type": "markdown",
   "id": "33f08a9b-dfa8-4ef3-bf63-aa14011da1bc",
   "metadata": {},
   "source": [
    "To convert a graphic diagram from an urdf description:\n",
    "* `urdf_to_graphiz FILE.urdf`\n",
    "\n",
    "Maybe you first need to convert xacro file to urdf."
   ]
  },
  {
   "cell_type": "code",
   "execution_count": null,
   "id": "af865bce-879c-4a2a-a946-94d5d01ec2f7",
   "metadata": {},
   "outputs": [],
   "source": []
  }
 ],
 "metadata": {
  "kernelspec": {
   "display_name": "Python 3 (ipykernel)",
   "language": "python",
   "name": "python3"
  },
  "language_info": {
   "codemirror_mode": {
    "name": "ipython",
    "version": 3
   },
   "file_extension": ".py",
   "mimetype": "text/x-python",
   "name": "python",
   "nbconvert_exporter": "python",
   "pygments_lexer": "ipython3",
   "version": "3.8.10"
  }
 },
 "nbformat": 4,
 "nbformat_minor": 5
}
