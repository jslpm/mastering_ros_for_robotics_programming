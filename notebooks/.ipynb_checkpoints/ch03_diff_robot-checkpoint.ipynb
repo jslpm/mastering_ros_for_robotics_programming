{
 "cells": [
  {
   "cell_type": "markdown",
   "id": "c1f61611-8446-4c9e-b463-ed656818c4a9",
   "metadata": {},
   "source": [
    "# Differential drive mobile robot"
   ]
  },
  {
   "cell_type": "markdown",
   "id": "26846558-e386-452b-a967-c709e4ccce5b",
   "metadata": {},
   "source": [
    "When write in a xacro file `<?xml version=\"1.0\"?>`, it enables xml syntax detection in vscode."
   ]
  },
  {
   "cell_type": "markdown",
   "id": "6a7c1ccc-e23b-4460-b19a-0238cc02f678",
   "metadata": {},
   "source": [
    "Convert xacro to urdf: \n",
    "* `rosrun xacro xacro FILE.xacro > FILE.urdf`"
   ]
  },
  {
   "cell_type": "markdown",
   "id": "c2da7dbe-dd42-4e19-857c-3b410b7fd92d",
   "metadata": {},
   "source": [
    "To check urdf file you must install:\n",
    "* `sudo apt install liburdfdom-tools`\n",
    "\n",
    "Then use `check_urdf FILE.urdf`"
   ]
  },
  {
   "cell_type": "markdown",
   "id": "fde83718-f0c5-4a8b-8f60-d11b6efd8ce4",
   "metadata": {},
   "source": [
    "<img src=\"figures/ch03_diff_robot/check_urdf_output_example.png\"/>"
   ]
  },
  {
   "cell_type": "markdown",
   "id": "eb1c83c4-e4b6-4bd6-ad29-e4dc5ffc1721",
   "metadata": {},
   "source": [
    "<h2 style=\"color: rgba(245, 170, 33, 0.8)\">WARNING</h2>"
   ]
  },
  {
   "cell_type": "markdown",
   "id": "2d8bf3a1-dc9d-4530-843a-848426baae2e",
   "metadata": {},
   "source": [
    "Sometimes `rviz` doesn't load correctly the robot model, even when everything is correct in urdf and launch files. The error is related to not found TF frames."
   ]
  },
  {
   "cell_type": "markdown",
   "id": "386efc87-2fec-41a4-bec7-17954e38fcdd",
   "metadata": {},
   "source": [
    "<img src=\"figures/ch03_diff_robot/rviz_error_use_sim_time.png\" alt=\"rviz_error_use_sim_time.png\"/>"
   ]
  },
  {
   "cell_type": "markdown",
   "id": "8943ebfe-7414-437d-8054-7a493cf3264e",
   "metadata": {},
   "source": [
    "This may happen due to a previous gazebo sesion. That loads `/use_sim_time` into the parameter server and causes conflict with `rviz` when is `/use_sim_time` set to `true`."
   ]
  },
  {
   "cell_type": "markdown",
   "id": "c7eeefc8-55d6-40ad-9272-9af6a526ad05",
   "metadata": {},
   "source": [
    "You can use `rosparam list` to check actual parameters loaded into ROS parameter server"
   ]
  },
  {
   "cell_type": "markdown",
   "id": "a2bc63c8-1b3d-4db1-b404-44e69f7c6eed",
   "metadata": {},
   "source": [
    "<img src=\"figures/ch03_diff_robot/rosparam_list_use_sim_time.png\"/>"
   ]
  },
  {
   "cell_type": "markdown",
   "id": "afce5e07-7524-4474-a76f-a37e04b4adf5",
   "metadata": {},
   "source": [
    "And then delete `/use_sim_time` with:\n",
    "* `rosparam delete /use_sim_time`\n",
    "\n",
    "This may solve the problem. Now the robot is correctly displayed."
   ]
  },
  {
   "cell_type": "markdown",
   "id": "a21bd526-dfcd-43ef-bf74-bd1d34a8d78a",
   "metadata": {},
   "source": [
    "<img src=\"figures/ch03_diff_robot/rviz_use_sim_time_solved.png\" alt=\"rviz_use_sim_time\"/>"
   ]
  },
  {
   "cell_type": "code",
   "execution_count": null,
   "id": "54237db8-4da1-4159-95f1-d5ac4e703462",
   "metadata": {},
   "outputs": [],
   "source": []
  }
 ],
 "metadata": {
  "kernelspec": {
   "display_name": "Python 3 (ipykernel)",
   "language": "python",
   "name": "python3"
  },
  "language_info": {
   "codemirror_mode": {
    "name": "ipython",
    "version": 3
   },
   "file_extension": ".py",
   "mimetype": "text/x-python",
   "name": "python",
   "nbconvert_exporter": "python",
   "pygments_lexer": "ipython3",
   "version": "3.8.10"
  }
 },
 "nbformat": 4,
 "nbformat_minor": 5
}
